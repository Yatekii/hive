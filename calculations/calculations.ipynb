{
 "cells": [
  {
   "cell_type": "code",
   "execution_count": null,
   "id": "e32cd79b",
   "metadata": {},
   "outputs": [
    {
     "name": "stdout",
     "output_type": "stream",
     "text": [
      "CT =  1.7727272727272734e-10\n",
      "Lmin =  4.047727272727274e-05\n",
      "RSC =  0.1919745222929936\n",
      "CO =  0.00022727272727272725\n",
      "R2 / R1 =  1.6399999999999997\n"
     ]
    }
   ],
   "source": [
    "# Calculated according to AN920-D\n",
    "# Step-Down Switching Regulator Design Example\n",
    "\n",
    "Ipk_switch = 1.5\n",
    "Vout = 3.3\n",
    "Iout = Ipk_switch / 2\n",
    "fmin = 50_000\n",
    "Vin = 20\n",
    "Vin_min = Vin * 0.9\n",
    "Vripple = Vout * 0.005\n",
    "# Using a 1N5819 for the rectifier\n",
    "VF = 0.6\n",
    "# According to DS\n",
    "Vsat = 1.0\n",
    "\n",
    "duty_cycle = (Vout + VF) / (Vin_min - Vsat - Vout)\n",
    "period_max = 1 / fmin\n",
    "toff = period_max / (duty_cycle + 1)\n",
    "ton = duty_cycle * toff\n",
    "ton_max = period_max - toff\n",
    "assert(ton/(ton+toff) <= 6/7)\n",
    "CT = 4e-5 * ton_max\n",
    "print(\"CT = \", CT)\n",
    "# CT = 177pF ~ 180pF\n",
    "\n",
    "Lmin = (Vin_min - Vsat - Vout) / Ipk_switch * ton_max\n",
    "print(\"Lmin = \", Lmin)\n",
    "# Lmin = 404 uH\n",
    "\n",
    "Ipk_switch_max = (Vin - Vsat - Vout) / Lmin * ton_max\n",
    "RSC = 0.33 / Ipk_switch_max\n",
    "print(\"RSC = \", RSC)\n",
    "# RSC = 0.19Ohm\n",
    "\n",
    "ton = duty_cycle * toff\n",
    "CO = Ipk_switch * (ton + toff) / (8 * Vripple)\n",
    "print(\"CO = \", CO)\n",
    "# CO = 227 uF\n",
    "\n",
    "Rratio = (Vout / 1.25) - 1\n",
    "print(\"R2 / R1 = \", Rratio)\n",
    "# R2 / R1 = 1.64\n",
    "# R1 =  11k\n",
    "# R2 = 18k"
   ]
  }
 ],
 "metadata": {
  "kernelspec": {
   "display_name": ".venv",
   "language": "python",
   "name": "python3"
  },
  "language_info": {
   "codemirror_mode": {
    "name": "ipython",
    "version": 3
   },
   "file_extension": ".py",
   "mimetype": "text/x-python",
   "name": "python",
   "nbconvert_exporter": "python",
   "pygments_lexer": "ipython3",
   "version": "3.13.3"
  }
 },
 "nbformat": 4,
 "nbformat_minor": 5
}
